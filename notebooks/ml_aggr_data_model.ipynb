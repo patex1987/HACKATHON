{
 "cells": [
  {
   "cell_type": "code",
   "execution_count": 5,
   "metadata": {
    "collapsed": false
   },
   "outputs": [
    {
     "name": "stdout",
     "output_type": "stream",
     "text": [
      "Once deleted, variables cannot be recovered. Proceed (y/[n])? \n",
      "Nothing done.\n"
     ]
    }
   ],
   "source": [
    "%reset\n",
    "%matplotlib inline\n",
    "\n",
    "import matplotlib\n",
    "import numpy as np\n",
    "import matplotlib.pyplot as plt\n",
    "\n",
    "import pandas as pd\n",
    "from numpy import random\n",
    "import datetime\n",
    "\n",
    "import functools\n",
    "import seaborn as sns\n",
    "import os"
   ]
  },
  {
   "cell_type": "code",
   "execution_count": 2,
   "metadata": {
    "collapsed": false
   },
   "outputs": [
    {
     "name": "stderr",
     "output_type": "stream",
     "text": [
      "/root/anaconda3/lib/python3.5/site-packages/sklearn/cross_validation.py:41: DeprecationWarning: This module was deprecated in version 0.18 in favor of the model_selection module into which all the refactored classes and functions are moved. Also note that the interface of the new CV iterators are different from that of this module. This module will be removed in 0.20.\n",
      "  \"This module will be removed in 0.20.\", DeprecationWarning)\n"
     ]
    }
   ],
   "source": [
    "from sklearn import preprocessing, cross_validation, svm\n",
    "from sklearn.linear_model import LinearRegression"
   ]
  },
  {
   "cell_type": "code",
   "execution_count": 3,
   "metadata": {
    "collapsed": true
   },
   "outputs": [],
   "source": [
    "def shift_df_single_variate(orig_dataframe, column_to_shift, shift_val):\n",
    "    shifted_df = pd.DataFrame()\n",
    "    for act_shift in range(shift_val):\n",
    "        shifted_df['t-{0}'.format(act_shift + 1)] = orig_dataframe.shift(act_shift+1)[column_to_shift]\n",
    "    shifted_df['result'] = orig_dataframe[column_to_shift]\n",
    "    return shifted_df"
   ]
  },
  {
   "cell_type": "code",
   "execution_count": 111,
   "metadata": {
    "collapsed": true
   },
   "outputs": [],
   "source": []
  },
  {
   "cell_type": "code",
   "execution_count": 129,
   "metadata": {
    "collapsed": false
   },
   "outputs": [
    {
     "data": {
      "text/html": [
       "<div>\n",
       "<style>\n",
       "    .dataframe thead tr:only-child th {\n",
       "        text-align: right;\n",
       "    }\n",
       "\n",
       "    .dataframe thead th {\n",
       "        text-align: left;\n",
       "    }\n",
       "\n",
       "    .dataframe tbody tr th {\n",
       "        vertical-align: top;\n",
       "    }\n",
       "</style>\n",
       "<table border=\"1\" class=\"dataframe\">\n",
       "  <thead>\n",
       "    <tr style=\"text-align: right;\">\n",
       "      <th></th>\n",
       "      <th>00:00</th>\n",
       "      <th>00:15</th>\n",
       "      <th>00:30</th>\n",
       "      <th>00:45</th>\n",
       "      <th>01:00</th>\n",
       "      <th>01:15</th>\n",
       "      <th>01:30</th>\n",
       "      <th>01:45</th>\n",
       "      <th>02:00</th>\n",
       "      <th>02:15</th>\n",
       "      <th>...</th>\n",
       "      <th>21:30</th>\n",
       "      <th>21:45</th>\n",
       "      <th>22:00</th>\n",
       "      <th>22:15</th>\n",
       "      <th>22:30</th>\n",
       "      <th>22:45</th>\n",
       "      <th>23:00</th>\n",
       "      <th>23:15</th>\n",
       "      <th>23:30</th>\n",
       "      <th>23:45</th>\n",
       "    </tr>\n",
       "  </thead>\n",
       "  <tbody>\n",
       "    <tr>\n",
       "      <th>2011-04-18</th>\n",
       "      <td>NaN</td>\n",
       "      <td>NaN</td>\n",
       "      <td>NaN</td>\n",
       "      <td>NaN</td>\n",
       "      <td>NaN</td>\n",
       "      <td>NaN</td>\n",
       "      <td>NaN</td>\n",
       "      <td>NaN</td>\n",
       "      <td>NaN</td>\n",
       "      <td>NaN</td>\n",
       "      <td>...</td>\n",
       "      <td>290.310924</td>\n",
       "      <td>351.805907</td>\n",
       "      <td>199.411765</td>\n",
       "      <td>259.181435</td>\n",
       "      <td>1040.803419</td>\n",
       "      <td>1846.056962</td>\n",
       "      <td>1294.960084</td>\n",
       "      <td>1043.364407</td>\n",
       "      <td>435.647059</td>\n",
       "      <td>322.926471</td>\n",
       "    </tr>\n",
       "    <tr>\n",
       "      <th>2011-04-19</th>\n",
       "      <td>363.923404</td>\n",
       "      <td>676.718884</td>\n",
       "      <td>1312.106667</td>\n",
       "      <td>1320.457207</td>\n",
       "      <td>478.692797</td>\n",
       "      <td>878.734043</td>\n",
       "      <td>1397.449782</td>\n",
       "      <td>345.457627</td>\n",
       "      <td>538.701681</td>\n",
       "      <td>188.683544</td>\n",
       "      <td>...</td>\n",
       "      <td>626.240426</td>\n",
       "      <td>308.789030</td>\n",
       "      <td>298.710084</td>\n",
       "      <td>309.265823</td>\n",
       "      <td>486.987395</td>\n",
       "      <td>304.666667</td>\n",
       "      <td>0.000000</td>\n",
       "      <td>0.000000</td>\n",
       "      <td>0.000000</td>\n",
       "      <td>0.000000</td>\n",
       "    </tr>\n",
       "  </tbody>\n",
       "</table>\n",
       "<p>2 rows × 96 columns</p>\n",
       "</div>"
      ],
      "text/plain": [
       "                 00:00       00:15        00:30        00:45       01:00  \\\n",
       "2011-04-18         NaN         NaN          NaN          NaN         NaN   \n",
       "2011-04-19  363.923404  676.718884  1312.106667  1320.457207  478.692797   \n",
       "\n",
       "                 01:15        01:30       01:45       02:00       02:15  \\\n",
       "2011-04-18         NaN          NaN         NaN         NaN         NaN   \n",
       "2011-04-19  878.734043  1397.449782  345.457627  538.701681  188.683544   \n",
       "\n",
       "               ...           21:30       21:45       22:00       22:15  \\\n",
       "2011-04-18     ...      290.310924  351.805907  199.411765  259.181435   \n",
       "2011-04-19     ...      626.240426  308.789030  298.710084  309.265823   \n",
       "\n",
       "                  22:30        22:45        23:00        23:15       23:30  \\\n",
       "2011-04-18  1040.803419  1846.056962  1294.960084  1043.364407  435.647059   \n",
       "2011-04-19   486.987395   304.666667     0.000000     0.000000    0.000000   \n",
       "\n",
       "                 23:45  \n",
       "2011-04-18  322.926471  \n",
       "2011-04-19    0.000000  \n",
       "\n",
       "[2 rows x 96 columns]"
      ]
     },
     "execution_count": 129,
     "metadata": {},
     "output_type": "execute_result"
    }
   ],
   "source": [
    "house_data = 'house_1_aggr_sum.csv'\n",
    "\n",
    "base_df = pd.read_table(house_data,\n",
    "                       parse_dates=True,\n",
    "                       header=0,\n",
    "                       index_col=0,\n",
    "                       sep=\",\",\n",
    "                       decimal=\".\")\n",
    "\n",
    "base_df.head(2)"
   ]
  },
  {
   "cell_type": "code",
   "execution_count": 134,
   "metadata": {
    "collapsed": false
   },
   "outputs": [],
   "source": [
    "path = 'house_1_dists/'\n",
    "house_1_files = [os.path.join(path, file) for file in os.listdir(path) if os.path.isfile(os.path.join(path, file))]\n",
    "\n",
    "house_1_files = ['house_1_dists/5refrigerator.csv',\n",
    "                 'house_1_dists/9lighting.csv',\n",
    "                 'house_1_dists/20washer_dryer.csv',\n",
    "                 'house_1_dists/7kitchen_outlets.csv',\n",
    "                 'house_1_dists/6dishwaser.csv']\n"
   ]
  },
  {
   "cell_type": "markdown",
   "metadata": {},
   "source": [
    "## combined dataframes\n"
   ]
  },
  {
   "cell_type": "code",
   "execution_count": 182,
   "metadata": {
    "collapsed": false
   },
   "outputs": [],
   "source": [
    "ml_frames = []\n",
    "for file_name in house_1_files:\n",
    "    act_frame = base_df.copy()\n",
    "    channel_frame = pd.read_table(file_name,\n",
    "                       parse_dates=True,\n",
    "                       header=0,\n",
    "                       index_col=0,\n",
    "                       sep=\",\",\n",
    "                       decimal=\".\")\n",
    "    act_frame['output'] = channel_frame.sum(1)\n",
    "    act_frame.dropna(inplace=True)\n",
    "    ml_frames.append(act_frame)"
   ]
  },
  {
   "cell_type": "code",
   "execution_count": 136,
   "metadata": {
    "collapsed": true
   },
   "outputs": [],
   "source": [
    "test_frame = ml_frames[0]"
   ]
  },
  {
   "cell_type": "code",
   "execution_count": null,
   "metadata": {
    "collapsed": false
   },
   "outputs": [],
   "source": []
  },
  {
   "cell_type": "code",
   "execution_count": null,
   "metadata": {
    "collapsed": false
   },
   "outputs": [],
   "source": []
  },
  {
   "cell_type": "markdown",
   "metadata": {},
   "source": [
    "## Learning the model"
   ]
  },
  {
   "cell_type": "code",
   "execution_count": 137,
   "metadata": {
    "collapsed": true
   },
   "outputs": [],
   "source": [
    "models = []"
   ]
  },
  {
   "cell_type": "code",
   "execution_count": 184,
   "metadata": {
    "collapsed": false
   },
   "outputs": [
    {
     "name": "stdout",
     "output_type": "stream",
     "text": [
      "-22.0859855581\n",
      "-22.0859855581\n",
      "-22.0859855581\n",
      "-22.0859855581\n",
      "-22.0859855581\n"
     ]
    }
   ],
   "source": [
    "from sklearn import svm\n",
    "from sklearn import linear_model\n",
    "from sklearn.linear_model import ARDRegression, LinearRegression\n",
    "for ml_frame in ml_frames:\n",
    "    x_orig = np.array(test_frame.drop('output', axis=1))\n",
    "    y_orig = np.array(test_frame['output'])\n",
    "    X_train, X_test, y_train, y_test = cross_validation.train_test_split(x_orig, y_orig, test_size=0.3)\n",
    "    X_train, X_test = x_orig[:train_len], x_orig[train_len:]\n",
    "    y_train, y_test = y_orig[:train_len], y_orig[train_len:]\n",
    "    #model = ARDRegression(compute_score=True, normalize=True)\n",
    "    model = LinearRegression()\n",
    "    model.fit(X_train, y_train)\n",
    "    print(model.score(X_test, y_test))\n",
    "    models.append(model)\n"
   ]
  },
  {
   "cell_type": "code",
   "execution_count": null,
   "metadata": {
    "collapsed": true
   },
   "outputs": [],
   "source": []
  },
  {
   "cell_type": "code",
   "execution_count": null,
   "metadata": {
    "collapsed": true
   },
   "outputs": [],
   "source": []
  },
  {
   "cell_type": "code",
   "execution_count": null,
   "metadata": {
    "collapsed": true
   },
   "outputs": [],
   "source": [
    "\n"
   ]
  },
  {
   "cell_type": "code",
   "execution_count": null,
   "metadata": {
    "collapsed": true
   },
   "outputs": [],
   "source": []
  }
 ],
 "metadata": {
  "anaconda-cloud": {},
  "kernelspec": {
   "display_name": "Python [Root]",
   "language": "python",
   "name": "Python [Root]"
  },
  "language_info": {
   "codemirror_mode": {
    "name": "ipython",
    "version": 3
   },
   "file_extension": ".py",
   "mimetype": "text/x-python",
   "name": "python",
   "nbconvert_exporter": "python",
   "pygments_lexer": "ipython3",
   "version": "3.5.2"
  }
 },
 "nbformat": 4,
 "nbformat_minor": 0
}
