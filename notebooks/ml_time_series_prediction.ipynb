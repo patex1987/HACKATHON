{
 "cells": [
  {
   "cell_type": "code",
   "execution_count": 1,
   "metadata": {
    "collapsed": false
   },
   "outputs": [
    {
     "name": "stdout",
     "output_type": "stream",
     "text": [
      "Once deleted, variables cannot be recovered. Proceed (y/[n])? \n",
      "Nothing done.\n"
     ]
    }
   ],
   "source": [
    "%reset\n",
    "%matplotlib inline\n",
    "\n",
    "import matplotlib\n",
    "import numpy as np\n",
    "import matplotlib.pyplot as plt\n",
    "\n",
    "import pandas as pd\n",
    "from numpy import random\n",
    "import datetime\n",
    "\n",
    "import functools\n",
    "import seaborn as sns"
   ]
  },
  {
   "cell_type": "code",
   "execution_count": 2,
   "metadata": {
    "collapsed": false
   },
   "outputs": [
    {
     "name": "stderr",
     "output_type": "stream",
     "text": [
      "/root/anaconda3/lib/python3.5/site-packages/sklearn/cross_validation.py:41: DeprecationWarning: This module was deprecated in version 0.18 in favor of the model_selection module into which all the refactored classes and functions are moved. Also note that the interface of the new CV iterators are different from that of this module. This module will be removed in 0.20.\n",
      "  \"This module will be removed in 0.20.\", DeprecationWarning)\n"
     ]
    }
   ],
   "source": [
    "from sklearn import preprocessing, cross_validation, svm\n",
    "from sklearn.linear_model import LinearRegression"
   ]
  },
  {
   "cell_type": "code",
   "execution_count": 3,
   "metadata": {
    "collapsed": true
   },
   "outputs": [],
   "source": [
    "def shift_df_single_variate(orig_dataframe, column_to_shift, shift_val):\n",
    "    shifted_df = pd.DataFrame()\n",
    "    for act_shift in range(shift_val):\n",
    "        shifted_df['t-{0}'.format(act_shift + 1)] = orig_dataframe.shift(act_shift+1)[column_to_shift]\n",
    "    shifted_df['result'] = orig_dataframe[column_to_shift]\n",
    "    return shifted_df"
   ]
  },
  {
   "cell_type": "code",
   "execution_count": null,
   "metadata": {
    "collapsed": true
   },
   "outputs": [],
   "source": []
  },
  {
   "cell_type": "code",
   "execution_count": 4,
   "metadata": {
    "collapsed": false
   },
   "outputs": [
    {
     "data": {
      "text/html": [
       "<div>\n",
       "<style>\n",
       "    .dataframe thead tr:only-child th {\n",
       "        text-align: right;\n",
       "    }\n",
       "\n",
       "    .dataframe thead th {\n",
       "        text-align: left;\n",
       "    }\n",
       "\n",
       "    .dataframe tbody tr th {\n",
       "        vertical-align: top;\n",
       "    }\n",
       "</style>\n",
       "<table border=\"1\" class=\"dataframe\">\n",
       "  <thead>\n",
       "    <tr style=\"text-align: right;\">\n",
       "      <th></th>\n",
       "      <th>1mains</th>\n",
       "      <th>2mains</th>\n",
       "      <th>3oven</th>\n",
       "      <th>4oven</th>\n",
       "      <th>5refrigerator</th>\n",
       "      <th>6dishwaser</th>\n",
       "      <th>7kitchen_outlets</th>\n",
       "      <th>8kitchen_outlets</th>\n",
       "      <th>9lighting</th>\n",
       "      <th>10washer_dryer</th>\n",
       "      <th>11microwave</th>\n",
       "      <th>12bathroom_gfi</th>\n",
       "      <th>13electric_heat</th>\n",
       "      <th>14stove</th>\n",
       "      <th>15kitchen_outlets</th>\n",
       "      <th>16kitchen_outlets</th>\n",
       "      <th>17lighting</th>\n",
       "      <th>18lighting</th>\n",
       "      <th>19washer_dryer</th>\n",
       "      <th>20washer_dryer</th>\n",
       "    </tr>\n",
       "    <tr>\n",
       "      <th>0date</th>\n",
       "      <th></th>\n",
       "      <th></th>\n",
       "      <th></th>\n",
       "      <th></th>\n",
       "      <th></th>\n",
       "      <th></th>\n",
       "      <th></th>\n",
       "      <th></th>\n",
       "      <th></th>\n",
       "      <th></th>\n",
       "      <th></th>\n",
       "      <th></th>\n",
       "      <th></th>\n",
       "      <th></th>\n",
       "      <th></th>\n",
       "      <th></th>\n",
       "      <th></th>\n",
       "      <th></th>\n",
       "      <th></th>\n",
       "      <th></th>\n",
       "    </tr>\n",
       "  </thead>\n",
       "  <tbody>\n",
       "    <tr>\n",
       "      <th>2011-04-18 13:15:00</th>\n",
       "      <td>221.499342</td>\n",
       "      <td>120.885902</td>\n",
       "      <td>0.0</td>\n",
       "      <td>0.020325</td>\n",
       "      <td>5.983740</td>\n",
       "      <td>0.284553</td>\n",
       "      <td>34.268293</td>\n",
       "      <td>23.065041</td>\n",
       "      <td>81.032520</td>\n",
       "      <td>0.01626</td>\n",
       "      <td>4.926829</td>\n",
       "      <td>0.991870</td>\n",
       "      <td>0.016260</td>\n",
       "      <td>0.000000</td>\n",
       "      <td>1.365854</td>\n",
       "      <td>0.008130</td>\n",
       "      <td>65.056911</td>\n",
       "      <td>45.699187</td>\n",
       "      <td>0.0</td>\n",
       "      <td>0.020325</td>\n",
       "    </tr>\n",
       "    <tr>\n",
       "      <th>2011-04-18 13:30:00</th>\n",
       "      <td>580.453000</td>\n",
       "      <td>118.680856</td>\n",
       "      <td>0.0</td>\n",
       "      <td>0.000000</td>\n",
       "      <td>5.974468</td>\n",
       "      <td>0.302128</td>\n",
       "      <td>31.944681</td>\n",
       "      <td>21.063830</td>\n",
       "      <td>80.255319</td>\n",
       "      <td>0.00000</td>\n",
       "      <td>4.693617</td>\n",
       "      <td>358.931915</td>\n",
       "      <td>2.212766</td>\n",
       "      <td>1.855319</td>\n",
       "      <td>1.965957</td>\n",
       "      <td>0.876596</td>\n",
       "      <td>65.472340</td>\n",
       "      <td>44.910638</td>\n",
       "      <td>0.0</td>\n",
       "      <td>0.000000</td>\n",
       "    </tr>\n",
       "  </tbody>\n",
       "</table>\n",
       "</div>"
      ],
      "text/plain": [
       "                         1mains      2mains  3oven     4oven  5refrigerator  \\\n",
       "0date                                                                         \n",
       "2011-04-18 13:15:00  221.499342  120.885902    0.0  0.020325       5.983740   \n",
       "2011-04-18 13:30:00  580.453000  118.680856    0.0  0.000000       5.974468   \n",
       "\n",
       "                     6dishwaser  7kitchen_outlets  8kitchen_outlets  \\\n",
       "0date                                                                 \n",
       "2011-04-18 13:15:00    0.284553         34.268293         23.065041   \n",
       "2011-04-18 13:30:00    0.302128         31.944681         21.063830   \n",
       "\n",
       "                     9lighting  10washer_dryer  11microwave  12bathroom_gfi  \\\n",
       "0date                                                                         \n",
       "2011-04-18 13:15:00  81.032520         0.01626     4.926829        0.991870   \n",
       "2011-04-18 13:30:00  80.255319         0.00000     4.693617      358.931915   \n",
       "\n",
       "                     13electric_heat   14stove  15kitchen_outlets  \\\n",
       "0date                                                               \n",
       "2011-04-18 13:15:00         0.016260  0.000000           1.365854   \n",
       "2011-04-18 13:30:00         2.212766  1.855319           1.965957   \n",
       "\n",
       "                     16kitchen_outlets  17lighting  18lighting  \\\n",
       "0date                                                            \n",
       "2011-04-18 13:15:00           0.008130   65.056911   45.699187   \n",
       "2011-04-18 13:30:00           0.876596   65.472340   44.910638   \n",
       "\n",
       "                     19washer_dryer  20washer_dryer  \n",
       "0date                                                \n",
       "2011-04-18 13:15:00             0.0        0.020325  \n",
       "2011-04-18 13:30:00             0.0        0.000000  "
      ]
     },
     "execution_count": 4,
     "metadata": {},
     "output_type": "execute_result"
    }
   ],
   "source": [
    "house_data = 'houses/house_1_avg_900.csv'\n",
    "\n",
    "act_df = pd.read_table(house_data,\n",
    "                       parse_dates=True,\n",
    "                       header=0,\n",
    "                       index_col=0,\n",
    "                       sep=\",\",\n",
    "                       decimal=\".\")\n",
    "\n",
    "act_df.head(2)"
   ]
  },
  {
   "cell_type": "code",
   "execution_count": null,
   "metadata": {
    "collapsed": false
   },
   "outputs": [],
   "source": []
  },
  {
   "cell_type": "code",
   "execution_count": 242,
   "metadata": {
    "collapsed": false
   },
   "outputs": [
    {
     "data": {
      "text/html": [
       "<div>\n",
       "<style>\n",
       "    .dataframe thead tr:only-child th {\n",
       "        text-align: right;\n",
       "    }\n",
       "\n",
       "    .dataframe thead th {\n",
       "        text-align: left;\n",
       "    }\n",
       "\n",
       "    .dataframe tbody tr th {\n",
       "        vertical-align: top;\n",
       "    }\n",
       "</style>\n",
       "<table border=\"1\" class=\"dataframe\">\n",
       "  <thead>\n",
       "    <tr style=\"text-align: right;\">\n",
       "      <th></th>\n",
       "      <th>t-1</th>\n",
       "      <th>t-2</th>\n",
       "      <th>t-3</th>\n",
       "      <th>t-4</th>\n",
       "      <th>t-5</th>\n",
       "      <th>t-6</th>\n",
       "      <th>t-7</th>\n",
       "      <th>t-8</th>\n",
       "      <th>t-9</th>\n",
       "      <th>t-10</th>\n",
       "      <th>...</th>\n",
       "      <th>t-88</th>\n",
       "      <th>t-89</th>\n",
       "      <th>t-90</th>\n",
       "      <th>t-91</th>\n",
       "      <th>t-92</th>\n",
       "      <th>t-93</th>\n",
       "      <th>t-94</th>\n",
       "      <th>t-95</th>\n",
       "      <th>t-96</th>\n",
       "      <th>result</th>\n",
       "    </tr>\n",
       "    <tr>\n",
       "      <th>0date</th>\n",
       "      <th></th>\n",
       "      <th></th>\n",
       "      <th></th>\n",
       "      <th></th>\n",
       "      <th></th>\n",
       "      <th></th>\n",
       "      <th></th>\n",
       "      <th></th>\n",
       "      <th></th>\n",
       "      <th></th>\n",
       "      <th></th>\n",
       "      <th></th>\n",
       "      <th></th>\n",
       "      <th></th>\n",
       "      <th></th>\n",
       "      <th></th>\n",
       "      <th></th>\n",
       "      <th></th>\n",
       "      <th></th>\n",
       "      <th></th>\n",
       "      <th></th>\n",
       "    </tr>\n",
       "  </thead>\n",
       "  <tbody>\n",
       "    <tr>\n",
       "      <th>2011-04-19 13:15:00</th>\n",
       "      <td>176.160338</td>\n",
       "      <td>175.831933</td>\n",
       "      <td>352.164557</td>\n",
       "      <td>205.016807</td>\n",
       "      <td>273.970464</td>\n",
       "      <td>637.596639</td>\n",
       "      <td>556.493671</td>\n",
       "      <td>1149.260684</td>\n",
       "      <td>368.236287</td>\n",
       "      <td>142.722689</td>\n",
       "      <td>...</td>\n",
       "      <td>353.639241</td>\n",
       "      <td>329.721519</td>\n",
       "      <td>136.970588</td>\n",
       "      <td>501.802521</td>\n",
       "      <td>453.200422</td>\n",
       "      <td>180.886555</td>\n",
       "      <td>185.481013</td>\n",
       "      <td>620.459574</td>\n",
       "      <td>262.756098</td>\n",
       "      <td>176.449580</td>\n",
       "    </tr>\n",
       "    <tr>\n",
       "      <th>2011-04-19 13:30:00</th>\n",
       "      <td>176.449580</td>\n",
       "      <td>176.160338</td>\n",
       "      <td>175.831933</td>\n",
       "      <td>352.164557</td>\n",
       "      <td>205.016807</td>\n",
       "      <td>273.970464</td>\n",
       "      <td>637.596639</td>\n",
       "      <td>556.493671</td>\n",
       "      <td>1149.260684</td>\n",
       "      <td>368.236287</td>\n",
       "      <td>...</td>\n",
       "      <td>257.394958</td>\n",
       "      <td>353.639241</td>\n",
       "      <td>329.721519</td>\n",
       "      <td>136.970588</td>\n",
       "      <td>501.802521</td>\n",
       "      <td>453.200422</td>\n",
       "      <td>180.886555</td>\n",
       "      <td>185.481013</td>\n",
       "      <td>620.459574</td>\n",
       "      <td>590.534043</td>\n",
       "    </tr>\n",
       "  </tbody>\n",
       "</table>\n",
       "<p>2 rows × 97 columns</p>\n",
       "</div>"
      ],
      "text/plain": [
       "                            t-1         t-2         t-3         t-4  \\\n",
       "0date                                                                 \n",
       "2011-04-19 13:15:00  176.160338  175.831933  352.164557  205.016807   \n",
       "2011-04-19 13:30:00  176.449580  176.160338  175.831933  352.164557   \n",
       "\n",
       "                            t-5         t-6         t-7          t-8  \\\n",
       "0date                                                                  \n",
       "2011-04-19 13:15:00  273.970464  637.596639  556.493671  1149.260684   \n",
       "2011-04-19 13:30:00  205.016807  273.970464  637.596639   556.493671   \n",
       "\n",
       "                             t-9        t-10     ...            t-88  \\\n",
       "0date                                            ...                   \n",
       "2011-04-19 13:15:00   368.236287  142.722689     ...      353.639241   \n",
       "2011-04-19 13:30:00  1149.260684  368.236287     ...      257.394958   \n",
       "\n",
       "                           t-89        t-90        t-91        t-92  \\\n",
       "0date                                                                 \n",
       "2011-04-19 13:15:00  329.721519  136.970588  501.802521  453.200422   \n",
       "2011-04-19 13:30:00  353.639241  329.721519  136.970588  501.802521   \n",
       "\n",
       "                           t-93        t-94        t-95        t-96  \\\n",
       "0date                                                                 \n",
       "2011-04-19 13:15:00  180.886555  185.481013  620.459574  262.756098   \n",
       "2011-04-19 13:30:00  453.200422  180.886555  185.481013  620.459574   \n",
       "\n",
       "                         result  \n",
       "0date                            \n",
       "2011-04-19 13:15:00  176.449580  \n",
       "2011-04-19 13:30:00  590.534043  \n",
       "\n",
       "[2 rows x 97 columns]"
      ]
     },
     "execution_count": 242,
     "metadata": {},
     "output_type": "execute_result"
    }
   ],
   "source": [
    "circuit_columns = act_df.columns[2:]\n",
    "consump_df = pd.DataFrame()\n",
    "#consump_df.index = act_df.index\n",
    "consump_df['sum_consumption'] = act_df[circuit_columns].sum(1)\n",
    "shift = 96\n",
    "consumption_shifted = shift_df_single_variate(consump_df, 'sum_consumption', shift).dropna()\n",
    "x_predict = np.array(consumption_shifted.drop('result', axis=1))[-shift:]\n",
    "consumption_shifted = consumption_shifted[:-shift]\n",
    "consumption_shifted.head(2)"
   ]
  },
  {
   "cell_type": "code",
   "execution_count": 243,
   "metadata": {
    "collapsed": false
   },
   "outputs": [
    {
     "data": {
      "text/plain": [
       "(3291, 97)"
      ]
     },
     "execution_count": 243,
     "metadata": {},
     "output_type": "execute_result"
    }
   ],
   "source": [
    "consumption_shifted.shape"
   ]
  },
  {
   "cell_type": "markdown",
   "metadata": {},
   "source": [
    "## Learning the model"
   ]
  },
  {
   "cell_type": "code",
   "execution_count": null,
   "metadata": {
    "collapsed": false
   },
   "outputs": [],
   "source": []
  },
  {
   "cell_type": "code",
   "execution_count": 244,
   "metadata": {
    "collapsed": false
   },
   "outputs": [],
   "source": [
    "x_orig = np.array(consumption_shifted.drop('result', axis=1))"
   ]
  },
  {
   "cell_type": "code",
   "execution_count": 245,
   "metadata": {
    "collapsed": true
   },
   "outputs": [],
   "source": [
    "y_orig = np.array(consumption_shifted['result'])"
   ]
  },
  {
   "cell_type": "code",
   "execution_count": null,
   "metadata": {
    "collapsed": false
   },
   "outputs": [],
   "source": []
  },
  {
   "cell_type": "code",
   "execution_count": null,
   "metadata": {
    "collapsed": true
   },
   "outputs": [],
   "source": []
  },
  {
   "cell_type": "code",
   "execution_count": 246,
   "metadata": {
    "collapsed": false
   },
   "outputs": [
    {
     "data": {
      "text/plain": [
       "0.48581459643754243"
      ]
     },
     "execution_count": 246,
     "metadata": {},
     "output_type": "execute_result"
    }
   ],
   "source": [
    "from sklearn import svm\n",
    "from sklearn import linear_model\n",
    "from sklearn import neighbors\n",
    "from sklearn.linear_model import ARDRegression\n",
    "\n",
    "X_train, X_test, y_train, y_test = cross_validation.train_test_split(x_orig, y_orig, test_size=0.3)\n",
    "\n",
    "model = linear_model.Ridge (alpha = 0.5)\n",
    "\n",
    "\n",
    "#model = svm.SVR(kernel='linear')\n",
    "#model = LinearRegression(normalize=True)\n",
    "\n",
    "\n",
    "model.fit(X_train, y_train)\n",
    "model.score(X_test, y_test)\n",
    "\n",
    "#predicted= model.predict(x_test)"
   ]
  },
  {
   "cell_type": "markdown",
   "metadata": {
    "collapsed": true
   },
   "source": [
    "## prediction"
   ]
  },
  {
   "cell_type": "code",
   "execution_count": 251,
   "metadata": {
    "collapsed": false
   },
   "outputs": [
    {
     "data": {
      "text/html": [
       "<div>\n",
       "<style>\n",
       "    .dataframe thead tr:only-child th {\n",
       "        text-align: right;\n",
       "    }\n",
       "\n",
       "    .dataframe thead th {\n",
       "        text-align: left;\n",
       "    }\n",
       "\n",
       "    .dataframe tbody tr th {\n",
       "        vertical-align: top;\n",
       "    }\n",
       "</style>\n",
       "<table border=\"1\" class=\"dataframe\">\n",
       "  <thead>\n",
       "    <tr style=\"text-align: right;\">\n",
       "      <th></th>\n",
       "      <th>t-1</th>\n",
       "      <th>t-2</th>\n",
       "      <th>t-3</th>\n",
       "      <th>t-4</th>\n",
       "      <th>t-5</th>\n",
       "      <th>t-6</th>\n",
       "      <th>t-7</th>\n",
       "      <th>t-8</th>\n",
       "      <th>t-9</th>\n",
       "      <th>t-10</th>\n",
       "      <th>...</th>\n",
       "      <th>t-88</th>\n",
       "      <th>t-89</th>\n",
       "      <th>t-90</th>\n",
       "      <th>t-91</th>\n",
       "      <th>t-92</th>\n",
       "      <th>t-93</th>\n",
       "      <th>t-94</th>\n",
       "      <th>t-95</th>\n",
       "      <th>t-96</th>\n",
       "      <th>result</th>\n",
       "    </tr>\n",
       "    <tr>\n",
       "      <th>0date</th>\n",
       "      <th></th>\n",
       "      <th></th>\n",
       "      <th></th>\n",
       "      <th></th>\n",
       "      <th></th>\n",
       "      <th></th>\n",
       "      <th></th>\n",
       "      <th></th>\n",
       "      <th></th>\n",
       "      <th></th>\n",
       "      <th></th>\n",
       "      <th></th>\n",
       "      <th></th>\n",
       "      <th></th>\n",
       "      <th></th>\n",
       "      <th></th>\n",
       "      <th></th>\n",
       "      <th></th>\n",
       "      <th></th>\n",
       "      <th></th>\n",
       "      <th></th>\n",
       "    </tr>\n",
       "  </thead>\n",
       "  <tbody>\n",
       "    <tr>\n",
       "      <th>2011-05-23 19:30:00</th>\n",
       "      <td>245.050420</td>\n",
       "      <td>327.869198</td>\n",
       "      <td>178.773109</td>\n",
       "      <td>179.485232</td>\n",
       "      <td>180.726891</td>\n",
       "      <td>198.139241</td>\n",
       "      <td>381.303797</td>\n",
       "      <td>295.993671</td>\n",
       "      <td>82.798206</td>\n",
       "      <td>102.088496</td>\n",
       "      <td>...</td>\n",
       "      <td>305.399160</td>\n",
       "      <td>173.726891</td>\n",
       "      <td>104.911392</td>\n",
       "      <td>390.212766</td>\n",
       "      <td>2380.843348</td>\n",
       "      <td>2716.205508</td>\n",
       "      <td>1108.029148</td>\n",
       "      <td>119.012605</td>\n",
       "      <td>123.924051</td>\n",
       "      <td>182.957983</td>\n",
       "    </tr>\n",
       "    <tr>\n",
       "      <th>2011-05-23 19:45:00</th>\n",
       "      <td>182.957983</td>\n",
       "      <td>245.050420</td>\n",
       "      <td>327.869198</td>\n",
       "      <td>178.773109</td>\n",
       "      <td>179.485232</td>\n",
       "      <td>180.726891</td>\n",
       "      <td>198.139241</td>\n",
       "      <td>381.303797</td>\n",
       "      <td>295.993671</td>\n",
       "      <td>82.798206</td>\n",
       "      <td>...</td>\n",
       "      <td>2113.061674</td>\n",
       "      <td>305.399160</td>\n",
       "      <td>173.726891</td>\n",
       "      <td>104.911392</td>\n",
       "      <td>390.212766</td>\n",
       "      <td>2380.843348</td>\n",
       "      <td>2716.205508</td>\n",
       "      <td>1108.029148</td>\n",
       "      <td>119.012605</td>\n",
       "      <td>202.206751</td>\n",
       "    </tr>\n",
       "  </tbody>\n",
       "</table>\n",
       "<p>2 rows × 97 columns</p>\n",
       "</div>"
      ],
      "text/plain": [
       "                            t-1         t-2         t-3         t-4  \\\n",
       "0date                                                                 \n",
       "2011-05-23 19:30:00  245.050420  327.869198  178.773109  179.485232   \n",
       "2011-05-23 19:45:00  182.957983  245.050420  327.869198  178.773109   \n",
       "\n",
       "                            t-5         t-6         t-7         t-8  \\\n",
       "0date                                                                 \n",
       "2011-05-23 19:30:00  180.726891  198.139241  381.303797  295.993671   \n",
       "2011-05-23 19:45:00  179.485232  180.726891  198.139241  381.303797   \n",
       "\n",
       "                            t-9        t-10     ...             t-88  \\\n",
       "0date                                           ...                    \n",
       "2011-05-23 19:30:00   82.798206  102.088496     ...       305.399160   \n",
       "2011-05-23 19:45:00  295.993671   82.798206     ...      2113.061674   \n",
       "\n",
       "                           t-89        t-90        t-91         t-92  \\\n",
       "0date                                                                  \n",
       "2011-05-23 19:30:00  173.726891  104.911392  390.212766  2380.843348   \n",
       "2011-05-23 19:45:00  305.399160  173.726891  104.911392   390.212766   \n",
       "\n",
       "                            t-93         t-94         t-95        t-96  \\\n",
       "0date                                                                    \n",
       "2011-05-23 19:30:00  2716.205508  1108.029148   119.012605  123.924051   \n",
       "2011-05-23 19:45:00  2380.843348  2716.205508  1108.029148  119.012605   \n",
       "\n",
       "                         result  \n",
       "0date                            \n",
       "2011-05-23 19:30:00  182.957983  \n",
       "2011-05-23 19:45:00  202.206751  \n",
       "\n",
       "[2 rows x 97 columns]"
      ]
     },
     "execution_count": 251,
     "metadata": {},
     "output_type": "execute_result"
    }
   ],
   "source": [
    "consumption_shifted.tail(2)"
   ]
  },
  {
   "cell_type": "code",
   "execution_count": 256,
   "metadata": {
    "collapsed": false,
    "scrolled": true
   },
   "outputs": [],
   "source": [
    "predicted_val = model.predict(x_predict)\n",
    "predictem_datetime = pd.date_range(\"2011-05-23 19:45:00\", periods=shift, freq=\"15min\")"
   ]
  },
  {
   "cell_type": "code",
   "execution_count": 284,
   "metadata": {
    "collapsed": false,
    "scrolled": false
   },
   "outputs": [
    {
     "data": {
      "text/plain": [
       "[<matplotlib.lines.Line2D at 0x7fe12235eb00>]"
      ]
     },
     "execution_count": 284,
     "metadata": {},
     "output_type": "execute_result"
    },
    {
     "data": {
      "image/png": "[encoded data removed]",
      "text/plain": [
       "<matplotlib.figure.Figure at 0x7fe12235e518>"
      ]
     },
     "metadata": {},
     "output_type": "display_data"
    }
   ],
   "source": [
    "plt.rcParams['figure.figsize']=(10, 10)\n",
    "\n",
    "plt.plot(consumption_shifted[consumption_shifted.index > '2011-05-18'].result)\n",
    "plt.plot(predicted_series)"
   ]
  },
  {
   "cell_type": "code",
   "execution_count": null,
   "metadata": {
    "collapsed": false
   },
   "outputs": [],
   "source": []
  }
 ],
 "metadata": {
  "anaconda-cloud": {},
  "kernelspec": {
   "display_name": "Python [Root]",
   "language": "python",
   "name": "Python [Root]"
  },
  "language_info": {
   "codemirror_mode": {
    "name": "ipython",
    "version": 3
   },
   "file_extension": ".py",
   "mimetype": "text/x-python",
   "name": "python",
   "nbconvert_exporter": "python",
   "pygments_lexer": "ipython3",
   "version": "3.5.2"
  }
 },
 "nbformat": 4,
 "nbformat_minor": 0
}
