{
 "cells": [
  {
   "cell_type": "code",
   "execution_count": 1,
   "metadata": {
    "collapsed": true
   },
   "outputs": [],
   "source": [
    "%matplotlib inline\n",
    "\n",
    "import matplotlib\n",
    "import numpy as np\n",
    "import matplotlib.pyplot as plt\n",
    "\n",
    "import pandas as pd\n",
    "from numpy import random\n",
    "import datetime\n",
    "\n",
    "import functools"
   ]
  },
  {
   "cell_type": "code",
   "execution_count": 7,
   "metadata": {
    "collapsed": true
   },
   "outputs": [],
   "source": [
    "def dateparse (time_in_secs):    \n",
    "    return datetime.datetime.fromtimestamp(float(time_in_secs))"
   ]
  },
  {
   "cell_type": "code",
   "execution_count": 8,
   "metadata": {
    "collapsed": true
   },
   "outputs": [],
   "source": [
    "channel_counts = (20, 11, 22, 20, 26, 17)\n",
    "house_files = []\n",
    "\n",
    "for house_pos, ch_count in enumerate(channel_counts):\n",
    "    cur_house_files = []\n",
    "    for ch_pos in range(ch_count):\n",
    "        cur_house_files.append('REDD_low_freq/house_{0}/channel_{1}.dat'.format(house_pos + 1, ch_pos + 1))\n",
    "    house_files.append(cur_house_files)"
   ]
  },
  {
   "cell_type": "code",
   "execution_count": null,
   "metadata": {
    "collapsed": true
   },
   "outputs": [],
   "source": []
  },
  {
   "cell_type": "code",
   "execution_count": 22,
   "metadata": {
    "collapsed": false
   },
   "outputs": [],
   "source": [
    "def process_avg_data():\n",
    "    for house_pos, house_data in enumerate(house_files):\n",
    "        #actual_avg = []\n",
    "        actual_max = []\n",
    "\n",
    "        for channel_nr, file_name in enumerate(house_data):\n",
    "            df_cur = pd.read_table(file_name,\n",
    "                                   parse_dates=True,\n",
    "                                   date_parser=dateparse,\n",
    "                                   header=None,\n",
    "                                   index_col=0,\n",
    "                                   sep=\" \",\n",
    "                                   decimal=\".\")\n",
    "            #df_mean = df_cur.resample(\"60S\").mean()\n",
    "            df_max = df_cur.resample(\"900S\").max()\n",
    "            #df_mean.to_csv('avg_60_house_{0}_channel_{1}.csv'.format(house_pos + 1, channel_nr + 1))\n",
    "            #df_mean.to_csv('max_60_house_{0}_channel_{1}.csv'.format(house_pos + 1, channel_nr + 1))\n",
    "\n",
    "            actual_max.append(df_max)\n",
    "            #actual_max = pd.merge(actual_max, df_mean)\n",
    "        yield actual_max"
   ]
  },
  {
   "cell_type": "code",
   "execution_count": 23,
   "metadata": {
    "collapsed": false
   },
   "outputs": [],
   "source": [
    "my_process = process_avg_data()"
   ]
  },
  {
   "cell_type": "code",
   "execution_count": 24,
   "metadata": {
    "collapsed": false
   },
   "outputs": [],
   "source": [
    "for i in range(6):\n",
    "    house_data = next(my_process)\n",
    "    df_house_avg = pd.concat(house_data, axis=1)\n",
    "    df_house_avg.to_csv('house_{0}_max_900.csv'.format(i+1))"
   ]
  },
  {
   "cell_type": "code",
   "execution_count": 13,
   "metadata": {
    "collapsed": false
   },
   "outputs": [],
   "source": []
  },
  {
   "cell_type": "code",
   "execution_count": 17,
   "metadata": {
    "collapsed": false
   },
   "outputs": [],
   "source": []
  },
  {
   "cell_type": "code",
   "execution_count": 19,
   "metadata": {
    "collapsed": false
   },
   "outputs": [],
   "source": []
  }
 ],
 "metadata": {
  "anaconda-cloud": {},
  "kernelspec": {
   "display_name": "Python [Root]",
   "language": "python",
   "name": "Python [Root]"
  },
  "language_info": {
   "codemirror_mode": {
    "name": "ipython",
    "version": 3
   },
   "file_extension": ".py",
   "mimetype": "text/x-python",
   "name": "python",
   "nbconvert_exporter": "python",
   "pygments_lexer": "ipython3",
   "version": "3.5.2"
  }
 },
 "nbformat": 4,
 "nbformat_minor": 0
}
