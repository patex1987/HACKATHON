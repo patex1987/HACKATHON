{
 "cells": [
  {
   "cell_type": "code",
   "execution_count": 6,
   "metadata": {
    "collapsed": false
   },
   "outputs": [
    {
     "name": "stdout",
     "output_type": "stream",
     "text": [
      "Once deleted, variables cannot be recovered. Proceed (y/[n])? \n",
      "Nothing done.\n"
     ]
    }
   ],
   "source": [
    "%reset\n",
    "%matplotlib inline\n",
    "\n",
    "import matplotlib\n",
    "import numpy as np\n",
    "import matplotlib.pyplot as plt\n",
    "\n",
    "import pandas as pd\n",
    "from numpy import random\n",
    "import datetime\n",
    "\n",
    "import functools\n",
    "import seaborn as sns"
   ]
  },
  {
   "cell_type": "code",
   "execution_count": 7,
   "metadata": {
    "collapsed": true
   },
   "outputs": [],
   "source": [
    "house_files = ('houses/house_1_avg_900.csv'\n",
    "               'houses/house_2_avg_900.csv',\n",
    "               'houses/house_3_avg_900.csv',\n",
    "               'houses/house_4_avg_900.csv',\n",
    "               'houses/house_5_avg_900.csv',\n",
    "               'houses/house_6_avg_900.csv')"
   ]
  },
  {
   "cell_type": "code",
   "execution_count": 8,
   "metadata": {
    "collapsed": true
   },
   "outputs": [],
   "source": []
  },
  {
   "cell_type": "code",
   "execution_count": null,
   "metadata": {
    "collapsed": false
   },
   "outputs": [],
   "source": []
  },
  {
   "cell_type": "raw",
   "metadata": {
    "collapsed": false,
    "scrolled": true
   },
   "source": [
    "orig_frames = []\n",
    "\n",
    "for file in house_files:\n",
    "    act_df = pd.read_table(first_house, parse_dates=True,\n",
    "                           header=0,\n",
    "                           index_col=0,\n",
    "                           sep=\",\",\n",
    "                           decimal=\".\")\n",
    "    act_df = act_df.fillna(0)\n",
    "    columns_sel = act_df.columns[2:]\n",
    "    act_df['aggr_sum'] = act_df[columns_sel].sum(1)\n",
    "    orig_frames.append(act_df)"
   ]
  },
  {
   "cell_type": "code",
   "execution_count": null,
   "metadata": {
    "collapsed": false,
    "scrolled": false
   },
   "outputs": [],
   "source": []
  },
  {
   "cell_type": "code",
   "execution_count": 10,
   "metadata": {
    "collapsed": false
   },
   "outputs": [],
   "source": [
    "def custom_transpose(orig_frame, columns_sel):\n",
    "    time_cols = [x.strftime('%H:%M') for x in pd.date_range(\"00:00\", \"23:59\", freq=\"15min\")]\n",
    "    output_frames = [pd.DataFrame(columns=time_cols)]*len(columns_sel)\n",
    "    \n",
    "    for column_id, column in enumerate(columns_sel):\n",
    "        for row_id, row in orig_frame.iterrows():\n",
    "            \n",
    "            timestamp = row.name\n",
    "            act_date = timestamp.strftime('%Y.%m.%d')\n",
    "            \n",
    "            if act_date not in output_frames[column_id].index:\n",
    "                \n",
    "                empty_frame = pd.DataFrame(np.nan, index=[act_date], columns=time_cols)\n",
    "                output_frames[column_id] = output_frames[column_id].append(empty_frame)\n",
    "            column_found = timestamp.strftime('%H:%M')\n",
    "            #print(output_frames[column_id])\n",
    "            output_frames[column_id].loc[act_date][column_found] = row[column]\n",
    "    return output_frames"
   ]
  },
  {
   "cell_type": "code",
   "execution_count": 11,
   "metadata": {
    "collapsed": false
   },
   "outputs": [],
   "source": [
    "processed_frames = []\n",
    "\n",
    "for orig frame in orig_frames:\n",
    "\n",
    "    columns_to_transpose = ['aggr_sum']\n",
    "    devices = custom_transpose(act_df, columns_to_transpose)\n",
    "    for device in devices:\n",
    "        device.index = pd.to_datetime(device.index)\n",
    "    processed_frames.append(devices)"
   ]
  },
  {
   "cell_type": "code",
   "execution_count": 12,
   "metadata": {
    "collapsed": false,
    "scrolled": true
   },
   "outputs": [],
   "source": [
    "\n",
    "\n",
    "device_pairs = list(zip(columns_to_transpose, devices))\n",
    "\n",
    "for file_name, device_hourly_table in device_pairs:\n",
    "    device_hourly_table.to_csv('house_{0}_{1}.csv'.format(1, file_name))\n",
    "\n"
   ]
  },
  {
   "cell_type": "code",
   "execution_count": null,
   "metadata": {
    "collapsed": false,
    "scrolled": false
   },
   "outputs": [],
   "source": [
    "\n"
   ]
  },
  {
   "cell_type": "code",
   "execution_count": null,
   "metadata": {
    "collapsed": false
   },
   "outputs": [],
   "source": []
  }
 ],
 "metadata": {
  "anaconda-cloud": {},
  "kernelspec": {
   "display_name": "Python [Root]",
   "language": "python",
   "name": "Python [Root]"
  },
  "language_info": {
   "codemirror_mode": {
    "name": "ipython",
    "version": 3
   },
   "file_extension": ".py",
   "mimetype": "text/x-python",
   "name": "python",
   "nbconvert_exporter": "python",
   "pygments_lexer": "ipython3",
   "version": "3.5.2"
  }
 },
 "nbformat": 4,
 "nbformat_minor": 0
}
